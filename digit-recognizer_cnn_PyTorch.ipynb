{
 "cells": [
  {
   "cell_type": "markdown",
   "id": "accf64db",
   "metadata": {},
   "source": [
    "# Digit Recognizer\n",
    "This is a Jupyter Notebook for the competition **[Digit Recognizer](https://www.kaggle.com/competitions/digit-recognizer/overview)** in kaggle to classify MNIST handwritten number using Convolutuon Neural Network with PyTorch. Training is conducted by using MPS (Metal Performance Shaders) on Mac mini M2 pro."
   ]
  },
  {
   "cell_type": "markdown",
   "id": "b9bc2819",
   "metadata": {},
   "source": [
    "## 1. Loading Libraries and Device configuration"
   ]
  },
  {
   "cell_type": "code",
   "execution_count": 2,
   "id": "7c9d50b6",
   "metadata": {},
   "outputs": [
    {
     "name": "stderr",
     "output_type": "stream",
     "text": [
      "\n",
      "A module that was compiled using NumPy 1.x cannot be run in\n",
      "NumPy 2.0.2 as it may crash. To support both 1.x and 2.x\n",
      "versions of NumPy, modules must be compiled with NumPy 2.0.\n",
      "Some module may need to rebuild instead e.g. with 'pybind11>=2.12'.\n",
      "\n",
      "If you are a user of the module, the easiest solution will be to\n",
      "downgrade to 'numpy<2' or try to upgrade the affected module.\n",
      "We expect that some modules will need time to support NumPy 2.\n",
      "\n",
      "Traceback (most recent call last):  File \"/opt/anaconda3/lib/python3.11/runpy.py\", line 198, in _run_module_as_main\n",
      "    return _run_code(code, main_globals, None,\n",
      "  File \"/opt/anaconda3/lib/python3.11/runpy.py\", line 88, in _run_code\n",
      "    exec(code, run_globals)\n",
      "  File \"/opt/anaconda3/lib/python3.11/site-packages/ipykernel_launcher.py\", line 18, in <module>\n",
      "    app.launch_new_instance()\n",
      "  File \"/opt/anaconda3/lib/python3.11/site-packages/traitlets/config/application.py\", line 992, in launch_instance\n",
      "    app.start()\n",
      "  File \"/opt/anaconda3/lib/python3.11/site-packages/ipykernel/kernelapp.py\", line 739, in start\n",
      "    self.io_loop.start()\n",
      "  File \"/opt/anaconda3/lib/python3.11/site-packages/tornado/platform/asyncio.py\", line 195, in start\n",
      "    self.asyncio_loop.run_forever()\n",
      "  File \"/opt/anaconda3/lib/python3.11/asyncio/base_events.py\", line 607, in run_forever\n",
      "    self._run_once()\n",
      "  File \"/opt/anaconda3/lib/python3.11/asyncio/base_events.py\", line 1922, in _run_once\n",
      "    handle._run()\n",
      "  File \"/opt/anaconda3/lib/python3.11/asyncio/events.py\", line 80, in _run\n",
      "    self._context.run(self._callback, *self._args)\n",
      "  File \"/opt/anaconda3/lib/python3.11/site-packages/ipykernel/kernelbase.py\", line 545, in dispatch_queue\n",
      "    await self.process_one()\n",
      "  File \"/opt/anaconda3/lib/python3.11/site-packages/ipykernel/kernelbase.py\", line 534, in process_one\n",
      "    await dispatch(*args)\n",
      "  File \"/opt/anaconda3/lib/python3.11/site-packages/ipykernel/kernelbase.py\", line 437, in dispatch_shell\n",
      "    await result\n",
      "  File \"/opt/anaconda3/lib/python3.11/site-packages/ipykernel/ipkernel.py\", line 362, in execute_request\n",
      "    await super().execute_request(stream, ident, parent)\n",
      "  File \"/opt/anaconda3/lib/python3.11/site-packages/ipykernel/kernelbase.py\", line 778, in execute_request\n",
      "    reply_content = await reply_content\n",
      "  File \"/opt/anaconda3/lib/python3.11/site-packages/ipykernel/ipkernel.py\", line 449, in do_execute\n",
      "    res = shell.run_cell(\n",
      "  File \"/opt/anaconda3/lib/python3.11/site-packages/ipykernel/zmqshell.py\", line 549, in run_cell\n",
      "    return super().run_cell(*args, **kwargs)\n",
      "  File \"/opt/anaconda3/lib/python3.11/site-packages/IPython/core/interactiveshell.py\", line 3051, in run_cell\n",
      "    result = self._run_cell(\n",
      "  File \"/opt/anaconda3/lib/python3.11/site-packages/IPython/core/interactiveshell.py\", line 3106, in _run_cell\n",
      "    result = runner(coro)\n",
      "  File \"/opt/anaconda3/lib/python3.11/site-packages/IPython/core/async_helpers.py\", line 129, in _pseudo_sync_runner\n",
      "    coro.send(None)\n",
      "  File \"/opt/anaconda3/lib/python3.11/site-packages/IPython/core/interactiveshell.py\", line 3311, in run_cell_async\n",
      "    has_raised = await self.run_ast_nodes(code_ast.body, cell_name,\n",
      "  File \"/opt/anaconda3/lib/python3.11/site-packages/IPython/core/interactiveshell.py\", line 3493, in run_ast_nodes\n",
      "    if await self.run_code(code, result, async_=asy):\n",
      "  File \"/opt/anaconda3/lib/python3.11/site-packages/IPython/core/interactiveshell.py\", line 3553, in run_code\n",
      "    exec(code_obj, self.user_global_ns, self.user_ns)\n",
      "  File \"/var/folders/68/y2dx8qm10y99l4tx2_c8ftsh0000gn/T/ipykernel_28248/2691927498.py\", line 1, in <module>\n",
      "    import pandas as pd\n",
      "  File \"/opt/anaconda3/lib/python3.11/site-packages/pandas/__init__.py\", line 26, in <module>\n",
      "    from pandas.compat import (\n",
      "  File \"/opt/anaconda3/lib/python3.11/site-packages/pandas/compat/__init__.py\", line 27, in <module>\n",
      "    from pandas.compat.pyarrow import (\n",
      "  File \"/opt/anaconda3/lib/python3.11/site-packages/pandas/compat/pyarrow.py\", line 8, in <module>\n",
      "    import pyarrow as pa\n",
      "  File \"/opt/anaconda3/lib/python3.11/site-packages/pyarrow/__init__.py\", line 65, in <module>\n",
      "    import pyarrow.lib as _lib\n"
     ]
    },
    {
     "ename": "AttributeError",
     "evalue": "_ARRAY_API not found",
     "output_type": "error",
     "traceback": [
      "\u001b[0;31m---------------------------------------------------------------------------\u001b[0m",
      "\u001b[0;31mAttributeError\u001b[0m                            Traceback (most recent call last)",
      "\u001b[0;31mAttributeError\u001b[0m: _ARRAY_API not found"
     ]
    },
    {
     "name": "stderr",
     "output_type": "stream",
     "text": [
      "\n",
      "A module that was compiled using NumPy 1.x cannot be run in\n",
      "NumPy 2.0.2 as it may crash. To support both 1.x and 2.x\n",
      "versions of NumPy, modules must be compiled with NumPy 2.0.\n",
      "Some module may need to rebuild instead e.g. with 'pybind11>=2.12'.\n",
      "\n",
      "If you are a user of the module, the easiest solution will be to\n",
      "downgrade to 'numpy<2' or try to upgrade the affected module.\n",
      "We expect that some modules will need time to support NumPy 2.\n",
      "\n",
      "Traceback (most recent call last):  File \"/opt/anaconda3/lib/python3.11/runpy.py\", line 198, in _run_module_as_main\n",
      "    return _run_code(code, main_globals, None,\n",
      "  File \"/opt/anaconda3/lib/python3.11/runpy.py\", line 88, in _run_code\n",
      "    exec(code, run_globals)\n",
      "  File \"/opt/anaconda3/lib/python3.11/site-packages/ipykernel_launcher.py\", line 18, in <module>\n",
      "    app.launch_new_instance()\n",
      "  File \"/opt/anaconda3/lib/python3.11/site-packages/traitlets/config/application.py\", line 992, in launch_instance\n",
      "    app.start()\n",
      "  File \"/opt/anaconda3/lib/python3.11/site-packages/ipykernel/kernelapp.py\", line 739, in start\n",
      "    self.io_loop.start()\n",
      "  File \"/opt/anaconda3/lib/python3.11/site-packages/tornado/platform/asyncio.py\", line 195, in start\n",
      "    self.asyncio_loop.run_forever()\n",
      "  File \"/opt/anaconda3/lib/python3.11/asyncio/base_events.py\", line 607, in run_forever\n",
      "    self._run_once()\n",
      "  File \"/opt/anaconda3/lib/python3.11/asyncio/base_events.py\", line 1922, in _run_once\n",
      "    handle._run()\n",
      "  File \"/opt/anaconda3/lib/python3.11/asyncio/events.py\", line 80, in _run\n",
      "    self._context.run(self._callback, *self._args)\n",
      "  File \"/opt/anaconda3/lib/python3.11/site-packages/ipykernel/kernelbase.py\", line 545, in dispatch_queue\n",
      "    await self.process_one()\n",
      "  File \"/opt/anaconda3/lib/python3.11/site-packages/ipykernel/kernelbase.py\", line 534, in process_one\n",
      "    await dispatch(*args)\n",
      "  File \"/opt/anaconda3/lib/python3.11/site-packages/ipykernel/kernelbase.py\", line 437, in dispatch_shell\n",
      "    await result\n",
      "  File \"/opt/anaconda3/lib/python3.11/site-packages/ipykernel/ipkernel.py\", line 362, in execute_request\n",
      "    await super().execute_request(stream, ident, parent)\n",
      "  File \"/opt/anaconda3/lib/python3.11/site-packages/ipykernel/kernelbase.py\", line 778, in execute_request\n",
      "    reply_content = await reply_content\n",
      "  File \"/opt/anaconda3/lib/python3.11/site-packages/ipykernel/ipkernel.py\", line 449, in do_execute\n",
      "    res = shell.run_cell(\n",
      "  File \"/opt/anaconda3/lib/python3.11/site-packages/ipykernel/zmqshell.py\", line 549, in run_cell\n",
      "    return super().run_cell(*args, **kwargs)\n",
      "  File \"/opt/anaconda3/lib/python3.11/site-packages/IPython/core/interactiveshell.py\", line 3051, in run_cell\n",
      "    result = self._run_cell(\n",
      "  File \"/opt/anaconda3/lib/python3.11/site-packages/IPython/core/interactiveshell.py\", line 3106, in _run_cell\n",
      "    result = runner(coro)\n",
      "  File \"/opt/anaconda3/lib/python3.11/site-packages/IPython/core/async_helpers.py\", line 129, in _pseudo_sync_runner\n",
      "    coro.send(None)\n",
      "  File \"/opt/anaconda3/lib/python3.11/site-packages/IPython/core/interactiveshell.py\", line 3311, in run_cell_async\n",
      "    has_raised = await self.run_ast_nodes(code_ast.body, cell_name,\n",
      "  File \"/opt/anaconda3/lib/python3.11/site-packages/IPython/core/interactiveshell.py\", line 3493, in run_ast_nodes\n",
      "    if await self.run_code(code, result, async_=asy):\n",
      "  File \"/opt/anaconda3/lib/python3.11/site-packages/IPython/core/interactiveshell.py\", line 3553, in run_code\n",
      "    exec(code_obj, self.user_global_ns, self.user_ns)\n",
      "  File \"/var/folders/68/y2dx8qm10y99l4tx2_c8ftsh0000gn/T/ipykernel_28248/2691927498.py\", line 1, in <module>\n",
      "    import pandas as pd\n",
      "  File \"/opt/anaconda3/lib/python3.11/site-packages/pandas/__init__.py\", line 49, in <module>\n",
      "    from pandas.core.api import (\n",
      "  File \"/opt/anaconda3/lib/python3.11/site-packages/pandas/core/api.py\", line 9, in <module>\n",
      "    from pandas.core.dtypes.dtypes import (\n",
      "  File \"/opt/anaconda3/lib/python3.11/site-packages/pandas/core/dtypes/dtypes.py\", line 24, in <module>\n",
      "    from pandas._libs import (\n",
      "  File \"/opt/anaconda3/lib/python3.11/site-packages/pyarrow/__init__.py\", line 65, in <module>\n",
      "    import pyarrow.lib as _lib\n"
     ]
    },
    {
     "ename": "AttributeError",
     "evalue": "_ARRAY_API not found",
     "output_type": "error",
     "traceback": [
      "\u001b[0;31m---------------------------------------------------------------------------\u001b[0m",
      "\u001b[0;31mAttributeError\u001b[0m                            Traceback (most recent call last)",
      "\u001b[0;31mAttributeError\u001b[0m: _ARRAY_API not found"
     ]
    },
    {
     "name": "stdout",
     "output_type": "stream",
     "text": [
      "Device set to: mps\n"
     ]
    }
   ],
   "source": [
    "import pandas as pd\n",
    "import numpy as np\n",
    "import csv\n",
    "import matplotlib.pyplot as plt\n",
    "import time\n",
    "from datetime import datetime\n",
    "\n",
    "import torch\n",
    "import torch.nn as nn\n",
    "import torch.optim as optim\n",
    "from torch.utils.data import DataLoader, Dataset\n",
    "from torchvision.transforms.functional import to_pil_image, to_tensor\n",
    "from torchvision.transforms import v2\n",
    "\n",
    "from sklearn.model_selection import train_test_split\n",
    "from sklearn.metrics import accuracy_score\n",
    "from sklearn.model_selection import ParameterGrid\n",
    "from sklearn.preprocessing import StandardScaler\n",
    "\n",
    "# Set the directory path\n",
    "path = '' # If you put the file in the same directory, set it blank\n",
    "\n",
    "# Device configuration\n",
    "# For using MPS on MacOS\n",
    "if torch.backends.mps.is_available():\n",
    "    device = torch.device(\"mps\")\n",
    "# For using CUDA\n",
    "elif torch.cuda.is_available():\n",
    "    torch.cuda.empty_cache()\n",
    "    device = torch.device(\"cuda\")\n",
    "else:\n",
    "    device = torch.device(\"cpu\")\n",
    "\n",
    "print(f\"Device set to: {device}\")"
   ]
  },
  {
   "cell_type": "markdown",
   "id": "81200565",
   "metadata": {},
   "source": [
    "## 2. Loading train and test data, and Data augmentation"
   ]
  },
  {
   "cell_type": "code",
   "execution_count": 3,
   "id": "cff8d066",
   "metadata": {},
   "outputs": [
    {
     "name": "stdout",
     "output_type": "stream",
     "text": [
      "train.csv: (42000, 785)\n"
     ]
    }
   ],
   "source": [
    "# Read train.csv\n",
    "data = np.loadtxt(path + \"train.csv\", delimiter=',', dtype='int64', skiprows=1)\n",
    "print(f\"train.csv: {data.shape}\")\n",
    "\n",
    "# Split data into X and label\n",
    "X = data[:,1:]\n",
    "label = data[:,0]"
   ]
  },
  {
   "cell_type": "markdown",
   "id": "288b1fff-f4b8-497c-8635-82907fedb9c8",
   "metadata": {},
   "source": [
    "Write the parameters in the dict `param_grid`, then `params = list(ParameterGrid(param_grid))` will return all the combinations of the each parameter."
   ]
  },
  {
   "cell_type": "code",
   "execution_count": 4,
   "id": "6b83c45f",
   "metadata": {},
   "outputs": [
    {
     "name": "stdout",
     "output_type": "stream",
     "text": [
      "There are 1 parameter combinations.\n"
     ]
    }
   ],
   "source": [
    "# Parameter grid\n",
    "param_grid = {\n",
    "    'optim': ['SDG'],\n",
    "    'mom': [0.95, 0.9, 0.85],\n",
    "    'lr': [5e-2,1e-2,5e-3]\n",
    "}\n",
    "\n",
    "# best parameter\n",
    "param_grid = {\n",
    "    'lr': [0.005],\n",
    "    'mom': [0.9],\n",
    "    'optim': ['SDG']\n",
    "}\n",
    "\n",
    "params = list(ParameterGrid(param_grid))\n",
    "print(f\"There are {len(params)} parameter combinations.\")"
   ]
  },
  {
   "cell_type": "markdown",
   "id": "679cc6d8-3b0b-46d4-88b7-69f39bd8bb51",
   "metadata": {},
   "source": [
    "## Data Augmentation\n",
    "Based on the original data, augmented it by these methods:\n",
    "- **RandomRotation:** Randomly rotate the image by ±5,10,15,20 degrees\n",
    "- **RandomAffine** Random affine transformation with degree rotation ±10 and scale from the 0.9 to 1.1\n",
    "\n",
    "`augment_factor` in `CustomDataset` decides how many times the original data will be augmented."
   ]
  },
  {
   "cell_type": "code",
   "execution_count": 5,
   "id": "6f014352-4ff9-44f4-9550-9b57dddeaeed",
   "metadata": {},
   "outputs": [],
   "source": [
    "# Define Custom Dataset\n",
    "class CustomDataset(Dataset):\n",
    "    def __init__(self, X, y, transform=None, augment_factor=1):\n",
    "        self.X = X\n",
    "        self.y = y\n",
    "        self.transform = transform\n",
    "        self.augment_factor = augment_factor\n",
    "\n",
    "    def __len__(self):\n",
    "        return len(self.y) * self.augment_factor\n",
    "\n",
    "    def __getitem__(self, idx):\n",
    "        original_idx = idx // self.augment_factor\n",
    "        image = self.X[original_idx].reshape(28, 28)\n",
    "        image = torch.from_numpy(image).clone().unsqueeze(0)\n",
    "        label = self.y[original_idx]\n",
    "        if self.transform and self.augment_factor > 1:\n",
    "            image = self.transform(image)\n",
    "        return image, label\n",
    "\n",
    "# Define data augmentation transforms\n",
    "augmentation_transforms = v2.Compose([\n",
    "    v2.RandomRotation(np.random.choice([5,10,15,20])),  # Randomly rotate the image by ±5,10,15,20 degrees\n",
    "    v2.RandomAffine(10, scale=(0.9, 1.1)),  # Random affine transformation (scale)\n",
    "    v2.ToDtype(torch.float32)\n",
    "])"
   ]
  },
  {
   "cell_type": "markdown",
   "id": "d5362818-9af9-406d-8c01-aa9953d580ee",
   "metadata": {},
   "source": [
    "## Split the data into train and test\n",
    "Train data is splitted as x0.8 of the original data, then standardized."
   ]
  },
  {
   "cell_type": "code",
   "execution_count": 6,
   "id": "437a5151-1bfd-4274-8215-388d88a1edee",
   "metadata": {},
   "outputs": [
    {
     "name": "stdout",
     "output_type": "stream",
     "text": [
      "Number of original data: 33600\n",
      "Number of augmented samples: 1680000, 50 times as many as the original data.\n",
      "------------------------------------\n",
      "Sample of train_dataset\n"
     ]
    },
    {
     "data": {
      "image/png": "[encoded data removed]",
      "text/plain": [
       "<Figure size 1000x500 with 5 Axes>"
      ]
     },
     "metadata": {},
     "output_type": "display_data"
    },
    {
     "name": "stdout",
     "output_type": "stream",
     "text": [
      "------------------------------------\n",
      "Sample of test_dataset\n"
     ]
    },
    {
     "data": {
      "image/png": "[encoded data removed]",
      "text/plain": [
       "<Figure size 1000x500 with 5 Axes>"
      ]
     },
     "metadata": {},
     "output_type": "display_data"
    }
   ],
   "source": [
    "# Split into train and test sets\n",
    "X_train, X_test, y_train, y_test = train_test_split(X, label, test_size=0.2, random_state=42)\n",
    "\n",
    "scaler = StandardScaler()\n",
    "scaler.fit(X_train)\n",
    "X_train = scaler.transform(X_train)\n",
    "X_test = scaler.transform(X_test)\n",
    "\n",
    "#print(X_train[0])\n",
    "#print(X_test[0])\n",
    "\n",
    "# Create PyTorch Datasets and DataLoaders\n",
    "train_dataset = CustomDataset(X_train, y_train, transform=augmentation_transforms, augment_factor=50)\n",
    "test_dataset = CustomDataset(X_test, y_test)\n",
    "\n",
    "train_loader = DataLoader(dataset=train_dataset, batch_size=128, shuffle=True)\n",
    "test_loader = DataLoader(dataset=test_dataset, batch_size=128, shuffle=False)\n",
    "\n",
    "# Show the each amount of original and augmented data\n",
    "print(f\"Number of original data: {len(X_train)}\")\n",
    "print(f\"Number of augmented samples: {len(train_dataset)}, {int(len(train_dataset) / len(X_train))} times as many as the original data.\")\n",
    "print(\"------------------------------------\")\n",
    "\n",
    "# Visualize a few augmented images\n",
    "def visualize_augmented_data(dataset, num_samples=5):\n",
    "    plt.figure(figsize=(10, 5))\n",
    "    for i in range(num_samples):\n",
    "        image, label = dataset[np.random.randint(len(dataset))]\n",
    "        #print(\"image:\",image)\n",
    "        image = image.squeeze().numpy()\n",
    "        plt.subplot(1, num_samples, i + 1)\n",
    "        plt.imshow(image, cmap=\"gray\")\n",
    "        plt.title(f\"Label: {label}\")\n",
    "        plt.axis(\"off\")\n",
    "    plt.tight_layout()\n",
    "    plt.show()\n",
    "\n",
    "print(\"Sample of train_dataset\")\n",
    "visualize_augmented_data(train_dataset)\n",
    "print(\"------------------------------------\")\n",
    "print(\"Sample of test_dataset\")\n",
    "visualize_augmented_data(test_dataset)"
   ]
  },
  {
   "cell_type": "markdown",
   "id": "560277b5",
   "metadata": {},
   "source": [
    "## 3. CNN class\n",
    "### Layers\n",
    "**1: Convolution**\n",
    "- **Convolution:** in_channels = 1, out_channels = 128, kernel_size = 2, stride = 1, padding = 1\n",
    "- **ReLU**\n",
    "- **MaxPool:** kernel_size = 2, stride = 2\n",
    "- **Dropout:** p = 0.2\n",
    "\n",
    "**2: Convolution**\n",
    "- **Convolution:** in_channels = 128, out_channels = 256, kernel_size = 2, stride = 1, padding = 1\n",
    "- **ReLU**\n",
    "- **MaxPool:** kernel_size = 2, stride = 2\n",
    "- **Dropout:** p = 0.2\n",
    "\n",
    "\n",
    "**3: Fully Connected Layer**\n",
    "- **Flatten**\n",
    "- **Linear:** in_features = 256 * 7 * 7, out_features = 128\n",
    "- **ReLU**\n",
    "- **Dropout:** p = 0.2\n",
    "- **Linear:** in_features = 128, out_features = 10\n",
    "\n",
    "### Early Stop\n",
    "After Epoch 10, if the mean of the loss in the last 5 epochs is bigger than the mean of the loss in the last 6-10 epochs, break the loop (e.g. at Epoch 13, compare the mean of the loss in 9-13 epochs and 4-8 epochs)."
   ]
  },
  {
   "cell_type": "code",
   "execution_count": 7,
   "id": "02a00552",
   "metadata": {},
   "outputs": [],
   "source": [
    "# CNN class\n",
    "class CNN(nn.Module):\n",
    "    def __init__(self):\n",
    "        super(CNN, self).__init__()\n",
    "        self.conv_layers = nn.Sequential(\n",
    "            nn.Conv2d(1, 128, kernel_size=2, stride=1, padding=1),\n",
    "            nn.ReLU(),\n",
    "            nn.MaxPool2d(kernel_size=2, stride=2),\n",
    "            nn.Dropout(p=0.2),\n",
    "            \n",
    "            nn.Conv2d(128, 256, kernel_size=2, stride=1, padding=1),\n",
    "            nn.ReLU(),\n",
    "            nn.MaxPool2d(kernel_size=2, stride=2),\n",
    "            nn.Dropout(p=0.2)\n",
    "        )\n",
    "        self.fc_layers = nn.Sequential(\n",
    "            nn.Flatten(),\n",
    "            nn.Linear(256 * 7 * 7, 128),\n",
    "            nn.ReLU(),\n",
    "            nn.Dropout(p=0.2),\n",
    "            nn.Linear(128, 10)\n",
    "        )\n",
    "\n",
    "    def forward(self, x):\n",
    "        x = self.conv_layers(x)\n",
    "        x = self.fc_layers(x)\n",
    "        return x\n",
    "\n",
    "# Training function\n",
    "def train_model(model, train_loader, criterion, optimizer, epochs=30):\n",
    "    model.train()\n",
    "    loss_list = []\n",
    "    best_model = None\n",
    "    \n",
    "    for epoch in range(epochs):\n",
    "        running_loss = 0.0\n",
    "        for images, labels in train_loader:\n",
    "            images, labels = images.to(device), labels.to(device)\n",
    "            optimizer.zero_grad()\n",
    "            outputs = model(images.float())\n",
    "            loss = criterion(outputs, labels)\n",
    "            loss.backward()\n",
    "            optimizer.step()\n",
    "            running_loss += loss.item()\n",
    "\n",
    "        # Show the progress per each epoch\n",
    "        print(f\"Epoch [ {epoch+1} / {epochs} ] Loss: {running_loss/len(train_loader):.8f}\")\n",
    "        \n",
    "        loss_list.append(running_loss / len(train_loader))\n",
    "        \n",
    "        # Save the best model\n",
    "        if loss_list[-1] == min(loss_list):\n",
    "            best_model = model\n",
    "        \n",
    "        # Early stop\n",
    "        if epoch >= 10 and (np.mean(loss_list[-3:]) > np.mean(loss_list[-6:-3])) :\n",
    "            print(\"Early stop\")\n",
    "            break\n",
    "    \n",
    "    return min(loss_list), loss_list.index(min(loss_list))+1, best_model\n",
    "\n",
    "# Evaluation function\n",
    "def evaluate_model(model, test_loader):\n",
    "    model.eval()\n",
    "    all_preds, all_labels = [], []\n",
    "    with torch.no_grad():\n",
    "        for images, labels in test_loader:\n",
    "            images = images.float()\n",
    "            images, labels = images.to(device), labels.to(device)\n",
    "            outputs = model(images)\n",
    "            _, preds = torch.max(outputs, 1)\n",
    "            all_preds.extend(preds.cpu().numpy())\n",
    "            all_labels.extend(labels.cpu().numpy())\n",
    "    accuracy = accuracy_score(all_labels, all_preds)\n",
    "    \n",
    "    # Show the Test Accuracy\n",
    "    #print(f\"Test Accuracy: {accuracy:.4f}\")\n",
    "    \n",
    "    return accuracy"
   ]
  },
  {
   "cell_type": "markdown",
   "id": "44ec7649",
   "metadata": {},
   "source": [
    "## 4. Train the model\n",
    "*If you have a pretrained model, skip the training and go to the next section."
   ]
  },
  {
   "cell_type": "code",
   "execution_count": 7,
   "id": "e1fcb4ba",
   "metadata": {},
   "outputs": [
    {
     "name": "stdout",
     "output_type": "stream",
     "text": [
      "1 / 1 {'lr': 0.005, 'mom': 0.9, 'optim': 'SDG'}\n",
      "Epoch [ 1 / 100 ] Loss: 0.08162148\n",
      "Epoch [ 2 / 100 ] Loss: 0.02754514\n",
      "Epoch [ 3 / 100 ] Loss: 0.01926412\n",
      "Epoch [ 4 / 100 ] Loss: 0.01489655\n",
      "Epoch [ 5 / 100 ] Loss: 0.01247146\n",
      "Epoch [ 6 / 100 ] Loss: 0.01082853\n",
      "Epoch [ 7 / 100 ] Loss: 0.00947593\n",
      "Epoch [ 8 / 100 ] Loss: 0.00840519\n",
      "Epoch [ 9 / 100 ] Loss: 0.00756552\n",
      "Epoch [ 10 / 100 ] Loss: 0.00745458\n",
      "Epoch [ 11 / 100 ] Loss: 0.00682921\n",
      "Epoch [ 12 / 100 ] Loss: 0.00625108\n",
      "Epoch [ 13 / 100 ] Loss: 0.00610010\n",
      "Epoch [ 14 / 100 ] Loss: 0.00558287\n",
      "Epoch [ 15 / 100 ] Loss: 0.00524585\n",
      "Epoch [ 16 / 100 ] Loss: 0.00518798\n",
      "Epoch [ 17 / 100 ] Loss: 0.00489968\n",
      "Epoch [ 18 / 100 ] Loss: 0.00463750\n",
      "Epoch [ 19 / 100 ] Loss: 0.00451322\n",
      "Epoch [ 20 / 100 ] Loss: 0.00428026\n",
      "Epoch [ 21 / 100 ] Loss: 0.00410679\n",
      "Epoch [ 22 / 100 ] Loss: 0.00384281\n",
      "Epoch [ 23 / 100 ] Loss: 0.00369597\n",
      "Epoch [ 24 / 100 ] Loss: 0.00384278\n",
      "Epoch [ 25 / 100 ] Loss: 0.00353290\n",
      "Epoch [ 26 / 100 ] Loss: 0.00351451\n",
      "Epoch [ 27 / 100 ] Loss: 0.00348119\n",
      "Epoch [ 28 / 100 ] Loss: 0.00333084\n",
      "Epoch [ 29 / 100 ] Loss: 0.00317908\n",
      "Epoch [ 30 / 100 ] Loss: 0.00311068\n",
      "Epoch [ 31 / 100 ] Loss: 0.00322279\n",
      "Epoch [ 32 / 100 ] Loss: 0.00302689\n",
      "Epoch [ 33 / 100 ] Loss: 0.00287834\n",
      "Epoch [ 34 / 100 ] Loss: 0.00290061\n",
      "Epoch [ 35 / 100 ] Loss: 0.00296047\n",
      "Epoch [ 36 / 100 ] Loss: 0.00280677\n",
      "Epoch [ 37 / 100 ] Loss: 0.00268286\n",
      "Epoch [ 38 / 100 ] Loss: 0.00263402\n",
      "Epoch [ 39 / 100 ] Loss: 0.00251653\n",
      "Epoch [ 40 / 100 ] Loss: 0.00264436\n",
      "Epoch [ 41 / 100 ] Loss: 0.00263240\n",
      "Epoch [ 42 / 100 ] Loss: 0.00247809\n",
      "Epoch [ 43 / 100 ] Loss: 0.00245101\n",
      "Epoch [ 44 / 100 ] Loss: 0.00236289\n",
      "Epoch [ 45 / 100 ] Loss: 0.00244421\n",
      "Epoch [ 46 / 100 ] Loss: 0.00231129\n",
      "Epoch [ 47 / 100 ] Loss: 0.00228511\n",
      "Epoch [ 48 / 100 ] Loss: 0.00212792\n",
      "Epoch [ 49 / 100 ] Loss: 0.00209325\n",
      "Epoch [ 50 / 100 ] Loss: 0.00220736\n",
      "Epoch [ 51 / 100 ] Loss: 0.00217077\n",
      "Epoch [ 52 / 100 ] Loss: 0.00210830\n",
      "Epoch [ 53 / 100 ] Loss: 0.00200192\n",
      "Epoch [ 54 / 100 ] Loss: 0.00210053\n",
      "Epoch [ 55 / 100 ] Loss: 0.00208102\n",
      "Epoch [ 56 / 100 ] Loss: 0.00204857\n",
      "Epoch [ 57 / 100 ] Loss: 0.00200224\n",
      "Epoch [ 58 / 100 ] Loss: 0.00191716\n",
      "Epoch [ 59 / 100 ] Loss: 0.00191555\n",
      "Epoch [ 60 / 100 ] Loss: 0.00183080\n",
      "Epoch [ 61 / 100 ] Loss: 0.00188687\n",
      "Epoch [ 62 / 100 ] Loss: 0.00173508\n",
      "Epoch [ 63 / 100 ] Loss: 0.00191261\n",
      "Epoch [ 64 / 100 ] Loss: 0.00180333\n",
      "Epoch [ 65 / 100 ] Loss: 0.00180341\n",
      "Early stop\n",
      "Accuracy: 99.50%, Loss: 0.00173508, Epoch: 62\n",
      "Training completed in: 06:33:41\n",
      "Best Accuracy: 99.50%\n",
      "Best parameter: {'lr': 0.005, 'mom': 0.9, 'optim': 'SDG'}\n"
     ]
    }
   ],
   "source": [
    "# Training and Optimization loop\n",
    "accuracy = []\n",
    "best_model = None\n",
    "\n",
    "# Time to start training\n",
    "start_time = time.time()\n",
    "\n",
    "for i,param in enumerate(params):\n",
    "    # Show each epoch and parameters \n",
    "    print(i+1, \"/\", len(params), param)\n",
    "    \n",
    "    # Initialize the model and criterion\n",
    "    model = CNN().to(device)\n",
    "    criterion = nn.CrossEntropyLoss()\n",
    "    \n",
    "    # Optimizer\n",
    "    if param['optim'] == 'SDG':\n",
    "        optimizer = optim.SGD(model.parameters(), lr = param['lr'], momentum = param['mom'])\n",
    "    if param['optim'] == 'Adam':\n",
    "        optimizer = optim.Adam(model.parameters(), lr = param['lr'])\n",
    "    \n",
    "    # Train the model\n",
    "    loss, epoch, model = train_model(model, train_loader, criterion, optimizer, epochs=100)\n",
    "    \n",
    "    # Evaluate the model for the test data\n",
    "    test_accuracy = evaluate_model(model, test_loader)\n",
    "    accuracy.append(test_accuracy)\n",
    "    print(f\"Accuracy: {accuracy[-1] * 100:.2f}%, Loss: {loss:.8f}, Epoch: {epoch:.0f}\")\n",
    "    \n",
    "    # Save the model if it is the best one\n",
    "    if accuracy[-1] == min(accuracy):\n",
    "        best_model = model\n",
    "\n",
    "# Time to end training\n",
    "end_time = time.time()\n",
    "elapsed_time = end_time - start_time\n",
    "\n",
    "# Show the time for training\n",
    "hours = int(elapsed_time // 3600)\n",
    "minutes = int((elapsed_time % 3600) // 60)\n",
    "seconds = int(elapsed_time % 60)\n",
    "print(f\"Training completed in: {hours:02}:{minutes:02}:{seconds:02}\")\n",
    "\n",
    "# Show the result\n",
    "print(f\"Best Accuracy: {max(accuracy) * 100:.2f}%\")\n",
    "print(f\"Best parameter: {params[accuracy.index(max(accuracy))]}\")"
   ]
  },
  {
   "cell_type": "code",
   "execution_count": 8,
   "id": "1af72ee2",
   "metadata": {},
   "outputs": [
    {
     "name": "stdout",
     "output_type": "stream",
     "text": [
      "The model has been successfully saved as cnn_model_20241221_1548.pth.\n"
     ]
    }
   ],
   "source": [
    "# Save the model with the timestamp\n",
    "timestamp = datetime.now().strftime(\"%Y%m%d_%H%M\")\n",
    "file_path = f\"{path}cnn_model_{timestamp}.pth\"\n",
    "torch.save(best_model.state_dict(), file_path)\n",
    "print(f\"The model has been successfully saved as {file_path}.\")"
   ]
  },
  {
   "cell_type": "markdown",
   "id": "ff934d3e",
   "metadata": {},
   "source": [
    "## 5. Make Predictions and Save the result for submission\n",
    "*If you have a pretrained model, load the model in the next cell, otherwise skip it."
   ]
  },
  {
   "cell_type": "code",
   "execution_count": 17,
   "id": "e5d60d4d",
   "metadata": {},
   "outputs": [
    {
     "name": "stdout",
     "output_type": "stream",
     "text": [
      "The pretrained model cnn_model_20241218_0116.pth has been successfully loaded.\n"
     ]
    }
   ],
   "source": [
    "# Load the model if you have a pretrained one, otherwise skip this cell.\n",
    "\n",
    "# set the file path\n",
    "file_path = \"cnn_model_20241218_0116.pth\" # your_directory/your_file_name\n",
    "\n",
    "best_model = CNN().to(device)\n",
    "best_model.load_state_dict(torch.load(file_path, weights_only=True))\n",
    "best_model.eval()\n",
    "print(f\"The pretrained model {file_path} has been successfully loaded.\")"
   ]
  },
  {
   "cell_type": "code",
   "execution_count": 19,
   "id": "ea8e4891",
   "metadata": {},
   "outputs": [
    {
     "name": "stdout",
     "output_type": "stream",
     "text": [
      "submission: (28000, 2)\n"
     ]
    },
    {
     "data": {
      "text/html": [
       "<div>\n",
       "<style scoped>\n",
       "    .dataframe tbody tr th:only-of-type {\n",
       "        vertical-align: middle;\n",
       "    }\n",
       "\n",
       "    .dataframe tbody tr th {\n",
       "        vertical-align: top;\n",
       "    }\n",
       "\n",
       "    .dataframe thead th {\n",
       "        text-align: right;\n",
       "    }\n",
       "</style>\n",
       "<table border=\"1\" class=\"dataframe\">\n",
       "  <thead>\n",
       "    <tr style=\"text-align: right;\">\n",
       "      <th></th>\n",
       "      <th>ImageId</th>\n",
       "      <th>Label</th>\n",
       "    </tr>\n",
       "  </thead>\n",
       "  <tbody>\n",
       "    <tr>\n",
       "      <th>0</th>\n",
       "      <td>1</td>\n",
       "      <td>2</td>\n",
       "    </tr>\n",
       "    <tr>\n",
       "      <th>1</th>\n",
       "      <td>2</td>\n",
       "      <td>0</td>\n",
       "    </tr>\n",
       "    <tr>\n",
       "      <th>2</th>\n",
       "      <td>3</td>\n",
       "      <td>9</td>\n",
       "    </tr>\n",
       "    <tr>\n",
       "      <th>3</th>\n",
       "      <td>4</td>\n",
       "      <td>0</td>\n",
       "    </tr>\n",
       "    <tr>\n",
       "      <th>4</th>\n",
       "      <td>5</td>\n",
       "      <td>3</td>\n",
       "    </tr>\n",
       "  </tbody>\n",
       "</table>\n",
       "</div>"
      ],
      "text/plain": [
       "   ImageId  Label\n",
       "0        1      2\n",
       "1        2      0\n",
       "2        3      9\n",
       "3        4      0\n",
       "4        5      3"
      ]
     },
     "execution_count": 19,
     "metadata": {},
     "output_type": "execute_result"
    }
   ],
   "source": [
    "# Function to make predictions\n",
    "def make_predictions(model, data_loader, device):\n",
    "    model.eval()\n",
    "    predictions = []\n",
    "    with torch.no_grad():\n",
    "        for images in data_loader:\n",
    "            images = images.reshape(-1,1,28,28)\n",
    "            images = images.float().to(device)\n",
    "            #print(images.shape)\n",
    "            outputs = model(images)\n",
    "            _, predicted = torch.max(outputs, 1)\n",
    "            predictions.extend(predicted.cpu().numpy())\n",
    "    return np.array(predictions)\n",
    "\n",
    "# Load the test data for submission\n",
    "X_sub = np.loadtxt(path + 'test.csv', delimiter=',', dtype='int64', skiprows=1)\n",
    "X_sub = scaler.transform(X_sub)\n",
    "sub_loader = DataLoader(dataset=X_sub.reshape(-1,28,28), batch_size=128, shuffle=False)\n",
    "\n",
    "# Make predictions\n",
    "predictions = make_predictions(best_model, sub_loader, device)\n",
    "formatted_data = [[i+1, predictions[i]] for i in range(len(predictions))]\n",
    "\n",
    "# Show the submission data\n",
    "submission = pd.DataFrame(formatted_data, columns = [\"ImageId\", \"Label\"])\n",
    "print(f\"submission: {submission.shape}\")\n",
    "submission.head()"
   ]
  },
  {
   "cell_type": "code",
   "execution_count": 22,
   "id": "82dce47d",
   "metadata": {},
   "outputs": [
    {
     "name": "stdout",
     "output_type": "stream",
     "text": [
      "The predictions have been successfully saved as submission_cnn_20241223_1911.csv.\n"
     ]
    }
   ],
   "source": [
    "# Save the predictions as a csv file with the timestamp\n",
    "timestamp = datetime.now().strftime(\"%Y%m%d_%H%M\")\n",
    "submission_file = f\"{path}submission_cnn_{timestamp}.csv\"\n",
    "submission.to_csv(submission_file, index = False)\n",
    "print(f\"The predictions have been successfully saved as {submission_file}.\")"
   ]
  },
  {
   "cell_type": "markdown",
   "id": "c35913b0-62f1-4824-86aa-a102620e41b1",
   "metadata": {},
   "source": [
    "## 6. Notification with [Jupyternotify](https://pypi.org/project/jupyternotify/)"
   ]
  },
  {
   "cell_type": "code",
   "execution_count": 11,
   "id": "7fc6af7f-a42b-4677-acc9-f6ba07b0b559",
   "metadata": {},
   "outputs": [
    {
     "data": {
      "application/javascript": [
       "var jq = document.createElement('script');\n",
       "jq.src = \"https://ajax.googleapis.com/ajax/libs/jquery/2.1.4/jquery.min.js\";\n",
       "document.getElementsByTagName('head')[0].appendChild(jq);\n"
      ],
      "text/plain": [
       "<IPython.core.display.Javascript object>"
      ]
     },
     "metadata": {},
     "output_type": "display_data"
    }
   ],
   "source": [
    "%%javascript\n",
    "var jq = document.createElement('script');\n",
    "jq.src = \"https://ajax.googleapis.com/ajax/libs/jquery/2.1.4/jquery.min.js\";\n",
    "document.getElementsByTagName('head')[0].appendChild(jq);"
   ]
  },
  {
   "cell_type": "code",
   "execution_count": 12,
   "id": "4140a1b4-2c85-416b-a775-8c7c0df3dfbe",
   "metadata": {},
   "outputs": [
    {
     "data": {
      "application/javascript": [
       "if (!(\"Notification\" in window)) {\n",
       "    alert(\"This browser does not support desktop notifications, so the %%notify magic will not work.\");\n",
       "} else if (Notification.permission !== 'granted' && Notification.permission !== 'denied') {\n",
       "    Notification.requestPermission(function (permission) {\n",
       "        if(!('permission' in Notification)) {\n",
       "            Notification.permission = permission;\n",
       "        }\n",
       "    })\n",
       "}\n"
      ],
      "text/plain": [
       "<IPython.core.display.Javascript object>"
      ]
     },
     "metadata": {},
     "output_type": "display_data"
    }
   ],
   "source": [
    "%load_ext jupyternotify"
   ]
  },
  {
   "cell_type": "code",
   "execution_count": 13,
   "id": "f75cc1e5-3e13-4742-abed-02c9f4ff04f7",
   "metadata": {},
   "outputs": [
    {
     "data": {
      "application/javascript": [
       "$(document).ready(\n",
       "    function() {\n",
       "        function appendUniqueDiv(){\n",
       "            // append a div with our uuid so we can check that it's already\n",
       "            // been sent and avoid duplicates on page reload\n",
       "            var notifiedDiv = document.createElement(\"div\")\n",
       "            notifiedDiv.id = \"d7c8997b-895f-4ad0-9caa-5a7c0bd4abea\"\n",
       "            element.append(notifiedDiv)\n",
       "        }\n",
       "\n",
       "        // only send notifications if the pageload is complete; this will\n",
       "        // help stop extra notifications when a saved notebook is loaded,\n",
       "        // which during testing gives us state \"interactive\", not \"complete\"\n",
       "        if (document.readyState === 'complete') {\n",
       "            // check for the div that signifies that the notification\n",
       "            // was already sent\n",
       "            if (document.getElementById(\"d7c8997b-895f-4ad0-9caa-5a7c0bd4abea\") === null) {\n",
       "                var notificationPayload = {\"requireInteraction\": false, \"icon\": \"/static/base/images/favicon.ico\", \"body\": \"Cell execution has finished!\"};\n",
       "                if (Notification.permission !== 'denied') {\n",
       "                    if (Notification.permission !== 'granted') { \n",
       "                        Notification.requestPermission(function (permission) {\n",
       "                            if(!('permission' in Notification)) {\n",
       "                                Notification.permission = permission\n",
       "                            }\n",
       "                        })\n",
       "                    }\n",
       "                    if (Notification.permission === 'granted') {\n",
       "                    var notification = new Notification(\"Jupyter Notebook\", notificationPayload)\n",
       "                    appendUniqueDiv()\n",
       "                    notification.onclick = function () {\n",
       "                        window.focus();\n",
       "                        this.close();\n",
       "                        };\n",
       "                    } \n",
       "                }     \n",
       "            }\n",
       "        }\n",
       "    }\n",
       ")\n"
      ],
      "text/plain": [
       "<IPython.core.display.Javascript object>"
      ]
     },
     "metadata": {},
     "output_type": "display_data"
    }
   ],
   "source": [
    "%%notify\n",
    "time.sleep(1)"
   ]
  },
  {
   "cell_type": "code",
   "execution_count": null,
   "id": "fe48f5c8-f094-4967-b255-9e56608dd1aa",
   "metadata": {},
   "outputs": [],
   "source": []
  }
 ],
 "metadata": {
  "kernelspec": {
   "display_name": "Python (base)",
   "language": "python",
   "name": "base"
  },
  "language_info": {
   "codemirror_mode": {
    "name": "ipython",
    "version": 3
   },
   "file_extension": ".py",
   "mimetype": "text/x-python",
   "name": "python",
   "nbconvert_exporter": "python",
   "pygments_lexer": "ipython3",
   "version": "3.11.5"
  }
 },
 "nbformat": 4,
 "nbformat_minor": 5
}
